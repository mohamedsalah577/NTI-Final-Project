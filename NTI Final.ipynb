{
 "cells": [
  {
   "cell_type": "raw",
   "id": "75ccdd01-a35e-411a-a6e4-d7f442c48666",
   "metadata": {},
   "source": [
    "Link Example = https://www.glassdoor.com/Job/united-states-r-developer-jobs-SRCH_IL.0,13_IN1_KO14,25.htm"
   ]
  },
  {
   "cell_type": "markdown",
   "id": "11b641f0-b5e1-4f76-a8ca-3ca74c58fc96",
   "metadata": {
    "jp-MarkdownHeadingCollapsed": true
   },
   "source": [
    "# Scraping code"
   ]
  },
  {
   "cell_type": "code",
   "execution_count": null,
   "id": "935bffae-b8b4-43cc-be4f-20ce43fb107e",
   "metadata": {
    "scrolled": true
   },
   "outputs": [],
   "source": [
    "from bs4 import BeautifulSoup\n",
    "from selenium import webdriver\n",
    "from selenium.webdriver.chrome.service import Service\n",
    "from selenium.webdriver.common.by import By\n",
    "from selenium.webdriver.support.ui import WebDriverWait\n",
    "from selenium.webdriver.support import expected_conditions as EC\n",
    "import time\n",
    "import pandas as pd\n",
    "\n",
    "name = input('Enter the filename here: ')\n",
    "constant_value1 = int(input('Enter the Loc_ID: '))\n",
    "constant_value2 = int(input('Enter the Lang_ID: '))\n",
    "\n",
    "# Target URL\n",
    "target_url = input('Enter url here: ')\n",
    "\n",
    "driver = webdriver.Chrome()\n",
    "\n",
    "# List to store job data\n",
    "job_list = []\n",
    "\n",
    "# Open the target URL\n",
    "driver.get(target_url)\n",
    "\n",
    "# Maximize the browser window\n",
    "driver.maximize_window()\n",
    "\n",
    "# Wait for the job listing container to load\n",
    "try:\n",
    "    scrolling_element = WebDriverWait(driver, 10).until(\n",
    "        EC.presence_of_element_located((By.XPATH, \"//*[@id='MainCol']\"))\n",
    "    )\n",
    "    # Scroll to the bottom of the job listing container\n",
    "    driver.execute_script('arguments[0].scrollTop = arguments[0].scrollHeight', scrolling_element)\n",
    "except Exception as e:\n",
    "    print(f\"Error while scrolling: {e}\")\n",
    "\n",
    "# Wait for the \"Show more jobs\" button and click it\n",
    "try:\n",
    "    load_more_button = WebDriverWait(driver, 10).until(\n",
    "        EC.element_to_be_clickable((By.XPATH, \"//button[@data-test='load-more']\"))\n",
    "    )\n",
    "    load_more_button.click()\n",
    "    time.sleep(3)  # Wait for new content to load after clicking\n",
    "except Exception as e:\n",
    "    print(f\"Error while clicking 'Show more jobs' button: {e}\")\n",
    "\n",
    "# Get the page source after scrolling and clicking\n",
    "page_source = driver.page_source\n",
    "\n",
    "# Close the browser\n",
    "driver.quit()\n",
    "\n",
    "# Parse the page with BeautifulSoup\n",
    "soup = BeautifulSoup(page_source, 'html.parser')\n",
    "\n",
    "# Find the job listings container\n",
    "all_jobs_container = soup.find(\"ul\", {\"class\": \"JobsList_jobsList__lqjTr\"})\n",
    "\n",
    "# Check if the container was found\n",
    "if all_jobs_container:\n",
    "    # Find all job listing elements\n",
    "    all_jobs = all_jobs_container.find_all(\"li\")\n",
    "    \n",
    "    # Loop through each job element and extract data\n",
    "    for job in all_jobs:\n",
    "        job_data = {}\n",
    "\n",
    "        # Extract company name\n",
    "        company_name = job.find(\"div\", {\"class\": \"EmployerProfile_profileContainer__VjVBX\"}).text if job.find(\"div\", {\"class\": \"EmployerProfile_profileContainer__VjVBX\"}) else None\n",
    "        if company_name and len(company_name) > 3:\n",
    "            # Extract the last part of the company name, typically the last 3 characters\n",
    "            last_part = company_name[-3:]\n",
    "            \n",
    "            try:\n",
    "                # Try to convert the last part to a float\n",
    "                ranking = float(last_part)\n",
    "                # If successful, remove the last part from the company name and set the Ranking\n",
    "                job_data[\"Company\"] = company_name[:-3]\n",
    "                job_data[\"Rating\"] = ranking\n",
    "            except ValueError:\n",
    "                # If conversion to float fails, keep the original company name and leave Ranking empty\n",
    "                job_data[\"Company\"] = company_name\n",
    "                job_data[\"Rating\"] = None\n",
    "        else:\n",
    "            job_data[\"Company\"] = company_name\n",
    "            job_data[\"Rating\"] = None\n",
    "\n",
    "        # Extract job title\n",
    "        job_data[\"Job Name\"] = job.find(\"a\", {\"class\": \"JobCard_jobTitle___7I6y\"}).text if job.find(\"a\", {\"class\": \"JobCard_jobTitle___7I6y\"}) else None\n",
    "\n",
    "        # Extract location\n",
    "        job_data[\"Location\"] = job.find(\"div\", {\"class\": \"JobCard_location__rCz3x\"}).text if job.find(\"div\", {\"class\": \"JobCard_location__rCz3x\"}) else None\n",
    "\n",
    "        # Extract salary\n",
    "        job_data[\"Salary\"] = job.find(\"div\", {\"class\": \"JobCard_salaryEstimate__arV5J\"}).text if job.find(\"div\", {\"class\": \"JobCard_salaryEstimate__arV5J\"}) else None\n",
    "\n",
    "        # Append the job data to the list\n",
    "        job_list.append(job_data)\n",
    "\n",
    "# Convert the list of jobs to a DataFrame and add the new column\n",
    "df = pd.DataFrame(job_list)\n",
    "# Drop rows where all elements are NaN (empty)\n",
    "df.dropna(how='all', inplace=True)\n",
    "df[\"Loc_ID\"] = constant_value1  # Add the new column with the constant value\n",
    "df[\"Lang_ID\"] = constant_value2\n",
    "\n",
    "# Save the DataFrame as a CSV file\n",
    "df.to_csv(f'{name}.csv', index=False, encoding='utf-8')\n",
    "\n",
    "print(f\"Data saved to {name}.csv\")\n",
    "\n"
   ]
  },
  {
   "cell_type": "markdown",
   "id": "929a8b36-6a87-4c08-b0e8-760756fdc6ea",
   "metadata": {
    "jp-MarkdownHeadingCollapsed": true
   },
   "source": [
    "# Appending csv files"
   ]
  },
  {
   "cell_type": "code",
   "execution_count": null,
   "id": "62ef11b7-4372-47fd-95fe-4dae6cbe8eed",
   "metadata": {},
   "outputs": [],
   "source": [
    "import pandas as pd\n",
    "import os\n",
    "\n",
    "# Base folder containing the subfolders with CSV files\n",
    "base_folder_path = r'C:\\Users\\3body\\Datasets'\n",
    "\n",
    "# List to hold dataframes\n",
    "dataframes = []\n",
    "\n",
    "# Walk through all subdirectories and files\n",
    "for root, dirs, files in os.walk(base_folder_path):\n",
    "    for filename in files:\n",
    "        if filename.endswith('.csv'):\n",
    "            file_path = os.path.join(root, filename)\n",
    "            df = pd.read_csv(file_path)\n",
    "            dataframes.append(df)\n",
    "\n",
    "# Concatenate all dataframes into a single dataframe\n",
    "appended_df = pd.concat(dataframes, ignore_index=True)\n",
    "\n",
    "#Dropping any duplicates\n",
    "appended_df.drop_duplicates(inplace=True)\n",
    "\n",
    "# Optionally, save the resulting dataframe to a new CSV file\n",
    "appended_df.to_csv('Dataset.csv', index=False)\n"
   ]
  },
  {
   "cell_type": "code",
   "execution_count": null,
   "id": "50f11b71-2c1b-404f-8c4f-3bfb7edcb4b5",
   "metadata": {},
   "outputs": [],
   "source": [
    "print(appended_df.duplicated().sum())"
   ]
  },
  {
   "cell_type": "markdown",
   "id": "06cd0e12-b599-481a-bd5e-084d8608a75a",
   "metadata": {},
   "source": [
    "# Extracting only numbers and units from Salary"
   ]
  },
  {
   "cell_type": "code",
   "execution_count": 15,
   "id": "692daf76-0cc2-4eb9-99b2-8245d45e6518",
   "metadata": {},
   "outputs": [
    {
     "name": "stdout",
     "output_type": "stream",
     "text": [
      "Updated dataset saved to updated_dataset_with_averages.csv\n"
     ]
    }
   ],
   "source": [
    "import re\n",
    "import pandas as pd\n",
    "\n",
    "# Load the 'Dataset' sheet into a DataFrame\n",
    "dataset_df = pd.read_csv(r'C:\\Users\\3body\\Dataset.csv')\n",
    "\n",
    "# Define the function to handle 'Per Hour' condition and 'M' multiplier\n",
    "def extract_salary_format_with_condition(salary_text):\n",
    "    # Regex pattern to match numbers (with optional 'K' or 'M')\n",
    "    pattern = r'(\\d+\\.?\\d*)([KM]?)'\n",
    "    \n",
    "    # Convert salary_text to string for processing\n",
    "    salary_text = str(salary_text)\n",
    "    \n",
    "    # Check if 'Per Hour' is in the salary text\n",
    "    is_per_hour = 'Per Hour' in salary_text\n",
    "    \n",
    "    # Find all matches in the salary text (numbers with optional 'K' or 'M')\n",
    "    matches = re.findall(pattern, salary_text)\n",
    "    \n",
    "    formatted_matches = []\n",
    "    salary_values = []\n",
    "    \n",
    "    for match in matches:\n",
    "        number, unit = match\n",
    "        \n",
    "        if is_per_hour:\n",
    "            formatted_matches.append(f\"{number}/hr\")\n",
    "            salary_values.append(float(number))  # Convert to float for calculations\n",
    "        elif unit == 'M':\n",
    "            # Convert the match to a float and multiply by 1000\n",
    "            formatted_matches.append(f\"{float(number) * 1000}K\")\n",
    "            salary_values.append(float(number) * 1000)\n",
    "        elif unit == 'K':\n",
    "            # Keep the number as it is for 'K'\n",
    "            formatted_matches.append(f\"{number}K\")\n",
    "            salary_values.append(float(number))\n",
    "        else:\n",
    "            # If no 'K' or 'M', keep the number as is\n",
    "            formatted_matches.append(number)\n",
    "            salary_values.append(float(number))\n",
    "    \n",
    "    # Join formatted matches into a single string for Formatted Salary\n",
    "    formatted_salary = \", \".join(formatted_matches)\n",
    "    \n",
    "    # Return both the formatted salary, the list of numeric values, and the is_per_hour flag\n",
    "    return formatted_salary, salary_values, is_per_hour\n",
    "\n",
    "# Apply the function to the Salary column\n",
    "dataset_df[['Formatted Salary', 'Salary Values', 'Is Per Hour']] = dataset_df['Salary'].apply(lambda x: pd.Series(extract_salary_format_with_condition(x)))\n",
    "\n",
    "# Define a function to calculate the average salary and add 'K' or '/hr' if applicable\n",
    "def calculate_average_salary(row):\n",
    "    salary_values = row['Salary Values']\n",
    "    is_per_hour = row['Is Per Hour']\n",
    "    \n",
    "    if salary_values:  # Check if the list is not empty\n",
    "        avg_salary = sum(salary_values) / len(salary_values)\n",
    "        # Check if the salary is per hour\n",
    "        if is_per_hour:\n",
    "            return f\"{avg_salary}/hr\"\n",
    "        else:\n",
    "            return f\"{int(avg_salary)}K\"\n",
    "    return None\n",
    "\n",
    "# Apply the average calculation function to the DataFrame\n",
    "dataset_df['Average Salary'] = dataset_df.apply(calculate_average_salary, axis=1)\n",
    "\n",
    "# Drop the Salary Values and Is Per Hour columns as they are no longer needed\n",
    "dataset_df.drop(columns=['Salary Values', 'Is Per Hour'], inplace=True)\n",
    "\n",
    "# Save the updated DataFrame to a new CSV file\n",
    "output_csv_path = \"updated_dataset_with_averages.csv\"\n",
    "dataset_df.to_csv(output_csv_path, index=False)\n",
    "\n",
    "print(f\"Updated dataset saved to {output_csv_path}\")\n"
   ]
  },
  {
   "cell_type": "markdown",
   "id": "e8a076d0-d390-46dd-881d-b381ea9707cc",
   "metadata": {
    "jp-MarkdownHeadingCollapsed": true
   },
   "source": [
    "# Converting per hour to per year"
   ]
  },
  {
   "cell_type": "code",
   "execution_count": 19,
   "id": "ab592d41-e632-4684-8e3d-0e058dc1305d",
   "metadata": {},
   "outputs": [
    {
     "name": "stdout",
     "output_type": "stream",
     "text": [
      "Updated dataset saved to updated_dataset_with_final_averages.csv\n"
     ]
    }
   ],
   "source": [
    "import pandas as pd\n",
    "import re\n",
    "\n",
    "# Load the dataset from the CSV file\n",
    "dataset_df = pd.read_csv(r'C:\\Users\\3body\\updated_dataset_with_averages.csv')\n",
    "\n",
    "# Assuming the dataset already has the 'Average Salary' column as mentioned earlier\n",
    "# Initialize a new list to store the final average salaries\n",
    "final_average_salaries = []\n",
    "\n",
    "# Iterate through each row in the DataFrame\n",
    "for index, row in dataset_df.iterrows():\n",
    "    average_salary = str(row['Average Salary'])\n",
    "    \n",
    "    if '/hr' in average_salary:\n",
    "        # Extract the numeric part and multiply by 2.1\n",
    "        numeric_value = float(re.findall(r'(\\d+\\.?\\d*)', average_salary)[0])\n",
    "        final_salary = numeric_value * 2.100\n",
    "        final_average_salaries.append(f\"{int(final_salary)}K\")\n",
    "    else:\n",
    "        # For non '/hr' values, just forward the existing 'K' values\n",
    "        final_average_salaries.append(average_salary)\n",
    "\n",
    "# Add the final average salaries as a new column to the DataFrame\n",
    "dataset_df['Final Average Salary'] = final_average_salaries\n",
    "\n",
    "# Save the updated DataFrame to a new CSV file\n",
    "output_csv_path = \"updated_dataset_with_final_averages.csv\"\n",
    "dataset_df.to_csv(output_csv_path, index=False)\n",
    "\n",
    "print(f\"Updated dataset saved to {output_csv_path}\")\n"
   ]
  },
  {
   "cell_type": "markdown",
   "id": "f01962f5-246f-4602-8191-13fbde878777",
   "metadata": {},
   "source": [
    "# Detecting Outliers"
   ]
  },
  {
   "cell_type": "code",
   "execution_count": 70,
   "id": "d0f2842b-c588-455a-bb33-eb0fabe5ea6f",
   "metadata": {},
   "outputs": [
    {
     "data": {
      "image/png": "[encoded data removed]",
      "text/plain": [
       "<Figure size 1000x2000 with 5 Axes>"
      ]
     },
     "metadata": {},
     "output_type": "display_data"
    }
   ],
   "source": [
    "import pandas as pd\n",
    "import matplotlib.pyplot as plt\n",
    "\n",
    "# Load the dataset from the CSV file\n",
    "file_path = r'C:\\Users\\3body\\updated_dataset_with_final_averages.csv'\n",
    "dataset_df = pd.read_csv(file_path)\n",
    "\n",
    "# Remove rows where 'Salary' column is 0\n",
    "dataset_df = dataset_df[dataset_df['Salary2'] != 0]\n",
    "\n",
    "# Convert 'Salary' to numeric values (assuming it's already numeric, if not, we'd need to convert it)\n",
    "dataset_df['Salary2'] = pd.to_numeric(dataset_df['Salary2'], errors='coerce')\n",
    "\n",
    "# Get unique Loc_IDs to create separate subplots\n",
    "loc_ids = dataset_df['Loc_ID'].unique()\n",
    "\n",
    "# Create subplots\n",
    "fig, axes = plt.subplots(len(loc_ids), 1, figsize=(10, len(loc_ids) * 4), sharex=True)\n",
    "\n",
    "# Plotting dot plots for each Loc_ID using 'Salary' column\n",
    "for ax, loc_id in zip(axes, loc_ids):\n",
    "    loc_data = dataset_df[dataset_df['Loc_ID'] == loc_id]\n",
    "    ax.boxplot(loc_data['Salary2'], [loc_id] * len(loc_data), 'o')\n",
    "    ax.set_title(f'Loc_ID: {loc_id}')\n",
    "    ax.set_ylabel('Loc_ID')\n",
    "    ax.grid(True)\n",
    "\n",
    "# Set x-label for the bottom plot\n",
    "axes[-1].set_xlabel('Salary2')\n",
    "\n",
    "# Adjust layout\n",
    "plt.tight_layout()\n",
    "plt.show()\n"
   ]
  },
  {
   "cell_type": "markdown",
   "id": "4fd998b0-0b41-401e-bc7d-675854588361",
   "metadata": {},
   "source": [
    "## observing outliers"
   ]
  },
  {
   "cell_type": "code",
   "execution_count": 89,
   "id": "0d8dd71a-ea97-49d2-863c-ccb3fcec124e",
   "metadata": {},
   "outputs": [
    {
     "name": "stdout",
     "output_type": "stream",
     "text": [
      "Loc_ID: 5, Lower Bound: 23957.5, Upper Bound: 112017.5\n",
      "Loc_ID: 3, Lower Bound: -1770.0, Upper Bound: 15462.0\n",
      "Loc_ID: 4, Lower Bound: -11340.0, Upper Bound: 53460.0\n",
      "Loc_ID: 2, Lower Bound: 11875.0, Upper Bound: 116875.0\n",
      "Loc_ID: 1, Lower Bound: 32375.0, Upper Bound: 183375.0\n"
     ]
    },
    {
     "name": "stdout",
     "output_type": "stream",
     "text": [
      "Enter the Loc_ID you want to display:  5\n"
     ]
    },
    {
     "name": "stdout",
     "output_type": "stream",
     "text": [
      "     Loc_ID  Lang_ID  Salary2\n",
      "7         5        2   131720\n",
      "154       5        5   157620\n",
      "172       5        5   156880\n",
      "178       5        4   207940\n",
      "185       5        4   121360\n",
      "195       5        4   157620\n",
      "196       5        4   119880\n",
      "197       5        4   185000\n",
      "199       5        4   121360\n",
      "205       5        4   121360\n",
      "207       5        4   119880\n",
      "213       5        4   125800\n",
      "227       5        4   126540\n",
      "236       5        4   133200\n"
     ]
    }
   ],
   "source": [
    "import pandas as pd\n",
    "\n",
    "# Load the dataset from the CSV file\n",
    "file_path = r'C:\\Users\\3body\\updated_dataset_with_final_averages.csv'\n",
    "dataset_df = pd.read_csv(file_path)\n",
    "\n",
    "# Remove rows where 'Salary' column is 0\n",
    "dataset_df = dataset_df[dataset_df['Salary2'] != 0]\n",
    "\n",
    "# Initialize a list to store outliers for each Loc_ID\n",
    "outliers_list = []\n",
    "\n",
    "# Get unique Loc_IDs to iterate over\n",
    "loc_ids = dataset_df['Loc_ID'].unique()\n",
    "\n",
    "# Loop through each Loc_ID and detect outliers in the Salary column\n",
    "for loc_id in loc_ids:\n",
    "    loc_data = dataset_df[dataset_df['Loc_ID'] == loc_id]\n",
    "    \n",
    "    # Calculate the IQR for the current Loc_ID\n",
    "    Q1 = loc_data['Salary2'].quantile(0.25)\n",
    "    Q3 = loc_data['Salary2'].quantile(0.75)\n",
    "    IQR = Q3 - Q1\n",
    "    \n",
    "    # Define the bounds for outliers\n",
    "    lower_bound = Q1 - 1.5 * IQR\n",
    "    upper_bound = Q3 + 1.5 * IQR\n",
    "    \n",
    "    # Print the bounds for the current Loc_ID\n",
    "    print(f\"Loc_ID: {loc_id}, Lower Bound: {lower_bound}, Upper Bound: {upper_bound}\")\n",
    "    \n",
    "    # Detect outliers for the current Loc_ID\n",
    "    loc_outliers = loc_data[(loc_data['Salary2'] < lower_bound) | (loc_data['Salary2'] > upper_bound)]\n",
    "    \n",
    "    # Append the outliers to the list\n",
    "    outliers_list.append(loc_outliers)\n",
    "\n",
    "# Concatenate all the outliers into a single DataFrame\n",
    "all_outliers_df = pd.concat(outliers_list)\n",
    "\n",
    "# Ask the user for the Loc_ID they want to display\n",
    "user_loc_id = input(\"Enter the Loc_ID you want to display: \")\n",
    "\n",
    "# Convert input to the appropriate type (e.g., integer or string) if5 necessary\n",
    "# Assuming Loc_ID is an integer in your dataset\n",
    "try:\n",
    "    user_loc_id = int(user_loc_id)\n",
    "except ValueError:\n",
    "    pass  # If Loc_ID is a string, leave it as is\n",
    "\n",
    "# Filter the outliers for the selected Loc_ID\n",
    "filtered_outliers = all_outliers_df[all_outliers_df['Loc_ID'] == user_loc_id]\n",
    "\n",
    "# Select and print the relevant columns: Loc_ID, Lang_ID, and Salary for the selected Loc_ID\n",
    "outliers_info = filtered_outliers[['Loc_ID', 'Lang_ID', 'Salary2']]\n",
    "\n",
    "# Display the filtered outliers\n",
    "if not outliers_info.empty:\n",
    "    print(outliers_info)\n",
    "else:\n",
    "    print(f\"No outliers found for Loc_ID: {user_loc_id}\")\n"
   ]
  },
  {
   "cell_type": "markdown",
   "id": "41766739-347e-4b62-a58a-3ed370fd21bb",
   "metadata": {},
   "source": [
    "## labeling outliers"
   ]
  },
  {
   "cell_type": "code",
   "execution_count": 108,
   "id": "87b446d2-3d64-4716-8b61-15f15ce44ff4",
   "metadata": {},
   "outputs": [
    {
     "name": "stdout",
     "output_type": "stream",
     "text": [
      "Outliers column added and saved to: C:\\Users\\3body\\updated_dataset_with_outliers.csv\n"
     ]
    }
   ],
   "source": [
    "import pandas as pd\n",
    "\n",
    "# Load the dataset from the CSV file\n",
    "file_path = r'C:\\Users\\3body\\updated_dataset_with_final_averages.csv'\n",
    "dataset_df = pd.read_csv(file_path)\n",
    "\n",
    "# Initialize the 'outliers' column with default value 'within'\n",
    "dataset_df['outliers'] = 'within'\n",
    "\n",
    "# Get unique Loc_IDs to iterate over\n",
    "loc_ids = dataset_df['Loc_ID'].unique()\n",
    "\n",
    "# Loop through each Loc_ID and detect outliers in the Salary2 column, skipping values with 0\n",
    "for loc_id in loc_ids:\n",
    "    # Filter out rows with Salary2 == 0 for outlier detection but keep them in the DataFrame\n",
    "    loc_data = dataset_df[(dataset_df['Loc_ID'] == loc_id) & (dataset_df['Salary2'] != 0)]\n",
    "    \n",
    "    # Calculate the IQR for the current Loc_ID\n",
    "    Q1 = loc_data['Salary2'].quantile(0.25)\n",
    "    Q3 = loc_data['Salary2'].quantile(0.75)\n",
    "    IQR = Q3 - Q1\n",
    "    \n",
    "    # Define the bounds for outliers\n",
    "    upper_bound = Q3 + 1.5 * IQR\n",
    "    \n",
    "    # Update the 'outliers' column for rows where Salary2 is above the upper bound, skipping rows where Salary2 is 0\n",
    "    dataset_df.loc[(dataset_df['Loc_ID'] == loc_id) & (dataset_df['Salary2'] > upper_bound), 'outliers'] = 'outlier'\n",
    "\n",
    "# Save the updated DataFrame to a new CSV file\n",
    "output_file_path = r'C:\\Users\\3body\\updated_dataset_with_outliers.csv'\n",
    "dataset_df.to_csv(output_file_path, index=False)\n",
    "\n",
    "print(\"Outliers column added and saved to:\", output_file_path)\n",
    "\n"
   ]
  },
  {
   "cell_type": "markdown",
   "id": "4ec13123-20c9-44b6-83ca-19deebc3141a",
   "metadata": {},
   "source": [
    "## Replacing 0 values within Q1 and Q3 according to each Loc_ID"
   ]
  },
  {
   "cell_type": "code",
   "execution_count": 112,
   "id": "f5c01df9-29e7-4274-906d-87733aadb953",
   "metadata": {},
   "outputs": [
    {
     "name": "stdout",
     "output_type": "stream",
     "text": [
      "Loc_ID: 5, Q1: 60000.0, Q3: 80000.0\n",
      "Loc_ID: 3, Q1: 5000.0, Q3: 9000.0\n",
      "Loc_ID: 4, Q1: 10000.0, Q3: 30000.0\n",
      "Loc_ID: 2, Q1: 50000.0, Q3: 80000.0\n",
      "Loc_ID: 1, Q1: 90000.0, Q3: 100000.0\n"
     ]
    },
    {
     "name": "stderr",
     "output_type": "stream",
     "text": [
      "C:\\Users\\3body\\AppData\\Local\\Temp\\ipykernel_24152\\267213180.py:32: FutureWarning: Setting an item of incompatible dtype is deprecated and will raise an error in a future version of pandas. Value '[67519.66690941 64947.46168009 64189.46101316 76891.03396064\n",
      " 70516.5834807  75410.14273412 72681.5118425  64313.11539586\n",
      " 76034.16415879 70574.50640113 73493.05421068 62133.27242168\n",
      " 73307.37182078 64329.68994118 66803.69575667 74626.73007369\n",
      " 78367.26823033 71223.52224987 69880.58483334 62358.75219124\n",
      " 62062.65649549 76885.05378673 74113.81479065 72014.81205552\n",
      " 78585.88297676 71613.37928941 73589.8475327  73948.10627131\n",
      " 78585.07109887 75869.94962704 69079.75943475 73130.51876374\n",
      " 72019.76006087 63797.70861864 69093.59833988 62195.55104945\n",
      " 79382.19282713 71777.06494974 62525.52369701 75257.9164672\n",
      " 67625.98039781 76836.600272   63842.90269119 74097.40781426\n",
      " 69523.39712662 73941.16774307 71608.92475187]' has dtype incompatible with int64, please explicitly cast to a compatible dtype first.\n",
      "  dataset_df.loc[(dataset_df['Loc_ID'] == loc_id) & (dataset_df['Salary2'] == 0), 'Salary2'] = np.random.uniform(Q1_rounded, Q3_rounded, size=len(dataset_df[(dataset_df['Loc_ID'] == loc_id) & (dataset_df['Salary2'] == 0)]))\n"
     ]
    },
    {
     "ename": "PermissionError",
     "evalue": "[Errno 13] Permission denied: 'C:\\\\Users\\\\3body\\\\updated_dataset_with_replaced_salaries.csv'",
     "output_type": "error",
     "traceback": [
      "\u001b[1;31m---------------------------------------------------------------------------\u001b[0m",
      "\u001b[1;31mPermissionError\u001b[0m                           Traceback (most recent call last)",
      "Cell \u001b[1;32mIn[112], line 39\u001b[0m\n\u001b[0;32m     37\u001b[0m \u001b[38;5;66;03m# Save the updated DataFrame to a new CSV file\u001b[39;00m\n\u001b[0;32m     38\u001b[0m output_file_path \u001b[38;5;241m=\u001b[39m \u001b[38;5;124mr\u001b[39m\u001b[38;5;124m'\u001b[39m\u001b[38;5;124mC:\u001b[39m\u001b[38;5;124m\\\u001b[39m\u001b[38;5;124mUsers\u001b[39m\u001b[38;5;124m\\\u001b[39m\u001b[38;5;124m3body\u001b[39m\u001b[38;5;124m\\\u001b[39m\u001b[38;5;124mupdated_dataset_with_replaced_salaries.csv\u001b[39m\u001b[38;5;124m'\u001b[39m\n\u001b[1;32m---> 39\u001b[0m dataset_df\u001b[38;5;241m.\u001b[39mto_csv(output_file_path, index\u001b[38;5;241m=\u001b[39m\u001b[38;5;28;01mFalse\u001b[39;00m)\n\u001b[0;32m     41\u001b[0m \u001b[38;5;28mprint\u001b[39m(\u001b[38;5;124m\"\u001b[39m\u001b[38;5;124m0 values replaced and saved to:\u001b[39m\u001b[38;5;124m\"\u001b[39m, output_file_path)\n",
      "File \u001b[1;32m~\\anaconda3\\Lib\\site-packages\\pandas\\util\\_decorators.py:333\u001b[0m, in \u001b[0;36mdeprecate_nonkeyword_arguments.<locals>.decorate.<locals>.wrapper\u001b[1;34m(*args, **kwargs)\u001b[0m\n\u001b[0;32m    327\u001b[0m \u001b[38;5;28;01mif\u001b[39;00m \u001b[38;5;28mlen\u001b[39m(args) \u001b[38;5;241m>\u001b[39m num_allow_args:\n\u001b[0;32m    328\u001b[0m     warnings\u001b[38;5;241m.\u001b[39mwarn(\n\u001b[0;32m    329\u001b[0m         msg\u001b[38;5;241m.\u001b[39mformat(arguments\u001b[38;5;241m=\u001b[39m_format_argument_list(allow_args)),\n\u001b[0;32m    330\u001b[0m         \u001b[38;5;167;01mFutureWarning\u001b[39;00m,\n\u001b[0;32m    331\u001b[0m         stacklevel\u001b[38;5;241m=\u001b[39mfind_stack_level(),\n\u001b[0;32m    332\u001b[0m     )\n\u001b[1;32m--> 333\u001b[0m \u001b[38;5;28;01mreturn\u001b[39;00m func(\u001b[38;5;241m*\u001b[39margs, \u001b[38;5;241m*\u001b[39m\u001b[38;5;241m*\u001b[39mkwargs)\n",
      "File \u001b[1;32m~\\anaconda3\\Lib\\site-packages\\pandas\\core\\generic.py:3967\u001b[0m, in \u001b[0;36mNDFrame.to_csv\u001b[1;34m(self, path_or_buf, sep, na_rep, float_format, columns, header, index, index_label, mode, encoding, compression, quoting, quotechar, lineterminator, chunksize, date_format, doublequote, escapechar, decimal, errors, storage_options)\u001b[0m\n\u001b[0;32m   3956\u001b[0m df \u001b[38;5;241m=\u001b[39m \u001b[38;5;28mself\u001b[39m \u001b[38;5;28;01mif\u001b[39;00m \u001b[38;5;28misinstance\u001b[39m(\u001b[38;5;28mself\u001b[39m, ABCDataFrame) \u001b[38;5;28;01melse\u001b[39;00m \u001b[38;5;28mself\u001b[39m\u001b[38;5;241m.\u001b[39mto_frame()\n\u001b[0;32m   3958\u001b[0m formatter \u001b[38;5;241m=\u001b[39m DataFrameFormatter(\n\u001b[0;32m   3959\u001b[0m     frame\u001b[38;5;241m=\u001b[39mdf,\n\u001b[0;32m   3960\u001b[0m     header\u001b[38;5;241m=\u001b[39mheader,\n\u001b[1;32m   (...)\u001b[0m\n\u001b[0;32m   3964\u001b[0m     decimal\u001b[38;5;241m=\u001b[39mdecimal,\n\u001b[0;32m   3965\u001b[0m )\n\u001b[1;32m-> 3967\u001b[0m \u001b[38;5;28;01mreturn\u001b[39;00m DataFrameRenderer(formatter)\u001b[38;5;241m.\u001b[39mto_csv(\n\u001b[0;32m   3968\u001b[0m     path_or_buf,\n\u001b[0;32m   3969\u001b[0m     lineterminator\u001b[38;5;241m=\u001b[39mlineterminator,\n\u001b[0;32m   3970\u001b[0m     sep\u001b[38;5;241m=\u001b[39msep,\n\u001b[0;32m   3971\u001b[0m     encoding\u001b[38;5;241m=\u001b[39mencoding,\n\u001b[0;32m   3972\u001b[0m     errors\u001b[38;5;241m=\u001b[39merrors,\n\u001b[0;32m   3973\u001b[0m     compression\u001b[38;5;241m=\u001b[39mcompression,\n\u001b[0;32m   3974\u001b[0m     quoting\u001b[38;5;241m=\u001b[39mquoting,\n\u001b[0;32m   3975\u001b[0m     columns\u001b[38;5;241m=\u001b[39mcolumns,\n\u001b[0;32m   3976\u001b[0m     index_label\u001b[38;5;241m=\u001b[39mindex_label,\n\u001b[0;32m   3977\u001b[0m     mode\u001b[38;5;241m=\u001b[39mmode,\n\u001b[0;32m   3978\u001b[0m     chunksize\u001b[38;5;241m=\u001b[39mchunksize,\n\u001b[0;32m   3979\u001b[0m     quotechar\u001b[38;5;241m=\u001b[39mquotechar,\n\u001b[0;32m   3980\u001b[0m     date_format\u001b[38;5;241m=\u001b[39mdate_format,\n\u001b[0;32m   3981\u001b[0m     doublequote\u001b[38;5;241m=\u001b[39mdoublequote,\n\u001b[0;32m   3982\u001b[0m     escapechar\u001b[38;5;241m=\u001b[39mescapechar,\n\u001b[0;32m   3983\u001b[0m     storage_options\u001b[38;5;241m=\u001b[39mstorage_options,\n\u001b[0;32m   3984\u001b[0m )\n",
      "File \u001b[1;32m~\\anaconda3\\Lib\\site-packages\\pandas\\io\\formats\\format.py:1014\u001b[0m, in \u001b[0;36mDataFrameRenderer.to_csv\u001b[1;34m(self, path_or_buf, encoding, sep, columns, index_label, mode, compression, quoting, quotechar, lineterminator, chunksize, date_format, doublequote, escapechar, errors, storage_options)\u001b[0m\n\u001b[0;32m    993\u001b[0m     created_buffer \u001b[38;5;241m=\u001b[39m \u001b[38;5;28;01mFalse\u001b[39;00m\n\u001b[0;32m    995\u001b[0m csv_formatter \u001b[38;5;241m=\u001b[39m CSVFormatter(\n\u001b[0;32m    996\u001b[0m     path_or_buf\u001b[38;5;241m=\u001b[39mpath_or_buf,\n\u001b[0;32m    997\u001b[0m     lineterminator\u001b[38;5;241m=\u001b[39mlineterminator,\n\u001b[1;32m   (...)\u001b[0m\n\u001b[0;32m   1012\u001b[0m     formatter\u001b[38;5;241m=\u001b[39m\u001b[38;5;28mself\u001b[39m\u001b[38;5;241m.\u001b[39mfmt,\n\u001b[0;32m   1013\u001b[0m )\n\u001b[1;32m-> 1014\u001b[0m csv_formatter\u001b[38;5;241m.\u001b[39msave()\n\u001b[0;32m   1016\u001b[0m \u001b[38;5;28;01mif\u001b[39;00m created_buffer:\n\u001b[0;32m   1017\u001b[0m     \u001b[38;5;28;01massert\u001b[39;00m \u001b[38;5;28misinstance\u001b[39m(path_or_buf, StringIO)\n",
      "File \u001b[1;32m~\\anaconda3\\Lib\\site-packages\\pandas\\io\\formats\\csvs.py:251\u001b[0m, in \u001b[0;36mCSVFormatter.save\u001b[1;34m(self)\u001b[0m\n\u001b[0;32m    247\u001b[0m \u001b[38;5;250m\u001b[39m\u001b[38;5;124;03m\"\"\"\u001b[39;00m\n\u001b[0;32m    248\u001b[0m \u001b[38;5;124;03mCreate the writer & save.\u001b[39;00m\n\u001b[0;32m    249\u001b[0m \u001b[38;5;124;03m\"\"\"\u001b[39;00m\n\u001b[0;32m    250\u001b[0m \u001b[38;5;66;03m# apply compression and byte/text conversion\u001b[39;00m\n\u001b[1;32m--> 251\u001b[0m \u001b[38;5;28;01mwith\u001b[39;00m get_handle(\n\u001b[0;32m    252\u001b[0m     \u001b[38;5;28mself\u001b[39m\u001b[38;5;241m.\u001b[39mfilepath_or_buffer,\n\u001b[0;32m    253\u001b[0m     \u001b[38;5;28mself\u001b[39m\u001b[38;5;241m.\u001b[39mmode,\n\u001b[0;32m    254\u001b[0m     encoding\u001b[38;5;241m=\u001b[39m\u001b[38;5;28mself\u001b[39m\u001b[38;5;241m.\u001b[39mencoding,\n\u001b[0;32m    255\u001b[0m     errors\u001b[38;5;241m=\u001b[39m\u001b[38;5;28mself\u001b[39m\u001b[38;5;241m.\u001b[39merrors,\n\u001b[0;32m    256\u001b[0m     compression\u001b[38;5;241m=\u001b[39m\u001b[38;5;28mself\u001b[39m\u001b[38;5;241m.\u001b[39mcompression,\n\u001b[0;32m    257\u001b[0m     storage_options\u001b[38;5;241m=\u001b[39m\u001b[38;5;28mself\u001b[39m\u001b[38;5;241m.\u001b[39mstorage_options,\n\u001b[0;32m    258\u001b[0m ) \u001b[38;5;28;01mas\u001b[39;00m handles:\n\u001b[0;32m    259\u001b[0m     \u001b[38;5;66;03m# Note: self.encoding is irrelevant here\u001b[39;00m\n\u001b[0;32m    260\u001b[0m     \u001b[38;5;28mself\u001b[39m\u001b[38;5;241m.\u001b[39mwriter \u001b[38;5;241m=\u001b[39m csvlib\u001b[38;5;241m.\u001b[39mwriter(\n\u001b[0;32m    261\u001b[0m         handles\u001b[38;5;241m.\u001b[39mhandle,\n\u001b[0;32m    262\u001b[0m         lineterminator\u001b[38;5;241m=\u001b[39m\u001b[38;5;28mself\u001b[39m\u001b[38;5;241m.\u001b[39mlineterminator,\n\u001b[1;32m   (...)\u001b[0m\n\u001b[0;32m    267\u001b[0m         quotechar\u001b[38;5;241m=\u001b[39m\u001b[38;5;28mself\u001b[39m\u001b[38;5;241m.\u001b[39mquotechar,\n\u001b[0;32m    268\u001b[0m     )\n\u001b[0;32m    270\u001b[0m     \u001b[38;5;28mself\u001b[39m\u001b[38;5;241m.\u001b[39m_save()\n",
      "File \u001b[1;32m~\\anaconda3\\Lib\\site-packages\\pandas\\io\\common.py:873\u001b[0m, in \u001b[0;36mget_handle\u001b[1;34m(path_or_buf, mode, encoding, compression, memory_map, is_text, errors, storage_options)\u001b[0m\n\u001b[0;32m    868\u001b[0m \u001b[38;5;28;01melif\u001b[39;00m \u001b[38;5;28misinstance\u001b[39m(handle, \u001b[38;5;28mstr\u001b[39m):\n\u001b[0;32m    869\u001b[0m     \u001b[38;5;66;03m# Check whether the filename is to be opened in binary mode.\u001b[39;00m\n\u001b[0;32m    870\u001b[0m     \u001b[38;5;66;03m# Binary mode does not support 'encoding' and 'newline'.\u001b[39;00m\n\u001b[0;32m    871\u001b[0m     \u001b[38;5;28;01mif\u001b[39;00m ioargs\u001b[38;5;241m.\u001b[39mencoding \u001b[38;5;129;01mand\u001b[39;00m \u001b[38;5;124m\"\u001b[39m\u001b[38;5;124mb\u001b[39m\u001b[38;5;124m\"\u001b[39m \u001b[38;5;129;01mnot\u001b[39;00m \u001b[38;5;129;01min\u001b[39;00m ioargs\u001b[38;5;241m.\u001b[39mmode:\n\u001b[0;32m    872\u001b[0m         \u001b[38;5;66;03m# Encoding\u001b[39;00m\n\u001b[1;32m--> 873\u001b[0m         handle \u001b[38;5;241m=\u001b[39m \u001b[38;5;28mopen\u001b[39m(\n\u001b[0;32m    874\u001b[0m             handle,\n\u001b[0;32m    875\u001b[0m             ioargs\u001b[38;5;241m.\u001b[39mmode,\n\u001b[0;32m    876\u001b[0m             encoding\u001b[38;5;241m=\u001b[39mioargs\u001b[38;5;241m.\u001b[39mencoding,\n\u001b[0;32m    877\u001b[0m             errors\u001b[38;5;241m=\u001b[39merrors,\n\u001b[0;32m    878\u001b[0m             newline\u001b[38;5;241m=\u001b[39m\u001b[38;5;124m\"\u001b[39m\u001b[38;5;124m\"\u001b[39m,\n\u001b[0;32m    879\u001b[0m         )\n\u001b[0;32m    880\u001b[0m     \u001b[38;5;28;01melse\u001b[39;00m:\n\u001b[0;32m    881\u001b[0m         \u001b[38;5;66;03m# Binary mode\u001b[39;00m\n\u001b[0;32m    882\u001b[0m         handle \u001b[38;5;241m=\u001b[39m \u001b[38;5;28mopen\u001b[39m(handle, ioargs\u001b[38;5;241m.\u001b[39mmode)\n",
      "\u001b[1;31mPermissionError\u001b[0m: [Errno 13] Permission denied: 'C:\\\\Users\\\\3body\\\\updated_dataset_with_replaced_salaries.csv'"
     ]
    }
   ],
   "source": [
    "import pandas as pd\n",
    "import numpy as np\n",
    "\n",
    "# Load the dataset from the CSV file\n",
    "file_path = r'C:\\Users\\3body\\updated_dataset_with_outliers.csv'\n",
    "dataset_df = pd.read_csv(file_path)\n",
    "\n",
    "# Get unique Loc_IDs to iterate over\n",
    "loc_ids = dataset_df['Loc_ID'].unique()\n",
    "\n",
    "# Function to round to 1 significant figure\n",
    "def round_to_1_sf(x):\n",
    "    return np.round(x, -int(np.floor(np.log10(abs(x)))))\n",
    "\n",
    "# Loop through each Loc_ID to calculate Q1 and Q3 and replace 0 values\n",
    "for loc_id in loc_ids:\n",
    "    # Filter the data for the current Loc_ID, skipping rows with 0 Salary2 values\n",
    "    loc_data = dataset_df[(dataset_df['Loc_ID'] == loc_id) & (dataset_df['Salary2'] != 0)]\n",
    "    \n",
    "    # Calculate Q1 and Q3 for the current Loc_ID\n",
    "    Q1 = loc_data['Salary2'].quantile(0.25)\n",
    "    Q3 = loc_data['Salary2'].quantile(0.75)\n",
    "    \n",
    "    # Round Q1 and Q3 to 1 significant figure\n",
    "    Q1_rounded = round_to_1_sf(Q1)\n",
    "    Q3_rounded = round_to_1_sf(Q3)\n",
    "    \n",
    "    # Print the calculated and rounded Q1 and Q3 for verification\n",
    "    print(f\"Loc_ID: {loc_id}, Q1: {Q1_rounded}, Q3: {Q3_rounded}\")\n",
    "    \n",
    "    # Replace 0 values in the Salary2 column for the current Loc_ID with random values between Q1 and Q3 (rounded)\n",
    "    dataset_df.loc[(dataset_df['Loc_ID'] == loc_id) & (dataset_df['Salary2'] == 0), 'Salary2'] = np.random.uniform(Q1_rounded, Q3_rounded, size=len(dataset_df[(dataset_df['Loc_ID'] == loc_id) & (dataset_df['Salary2'] == 0)]))\n",
    "\n",
    "# Round the entire 'Salary2' column to 1 significant figure before saving\n",
    "dataset_df['Salary2'] = dataset_df['Salary2'].apply(round_to_1_sf)\n",
    "\n",
    "# Save the updated DataFrame to a new CSV file\n",
    "output_file_path = r'C:\\Users\\3body\\updated_dataset_with_replaced_salaries.csv'\n",
    "dataset_df.to_csv(output_file_path, index=False)\n",
    "\n",
    "print(\"0 values replaced and saved to:\", output_file_path)\n"
   ]
  },
  {
   "cell_type": "code",
   "execution_count": null,
   "id": "101ecfc0-c9d5-47b1-8784-fb36906af6ba",
   "metadata": {},
   "outputs": [],
   "source": []
  },
  {
   "cell_type": "code",
   "execution_count": null,
   "id": "b79f66bd-00ba-4c3f-831f-e7018909d448",
   "metadata": {},
   "outputs": [],
   "source": []
  },
  {
   "cell_type": "code",
   "execution_count": null,
   "id": "35116fdb-62ed-43b3-b276-723366f43463",
   "metadata": {},
   "outputs": [],
   "source": []
  },
  {
   "cell_type": "code",
   "execution_count": null,
   "id": "b15b7c3e-a0e5-470f-820f-61d235fd2cdf",
   "metadata": {},
   "outputs": [],
   "source": []
  },
  {
   "cell_type": "markdown",
   "id": "2bb75270-ec66-4ea7-a7bc-d9b9d7b544aa",
   "metadata": {},
   "source": [
    "## to sql"
   ]
  },
  {
   "cell_type": "code",
   "execution_count": 4,
   "id": "17f81a7c-330e-4187-9da6-7101e082b2af",
   "metadata": {},
   "outputs": [
    {
     "ename": "UnicodeEncodeError",
     "evalue": "'charmap' codec can't encode character '\\x81' in position 187: character maps to <undefined>",
     "output_type": "error",
     "traceback": [
      "\u001b[1;31m---------------------------------------------------------------------------\u001b[0m",
      "\u001b[1;31mUnicodeEncodeError\u001b[0m                        Traceback (most recent call last)",
      "Cell \u001b[1;32mIn[4], line 44\u001b[0m\n\u001b[0;32m     41\u001b[0m     os\u001b[38;5;241m.\u001b[39mremove(sql_file)\n\u001b[0;32m     43\u001b[0m \u001b[38;5;66;03m# Generate SQL statements for each DataFrame\u001b[39;00m\n\u001b[1;32m---> 44\u001b[0m generate_sql(power_query_df, \u001b[38;5;124m'\u001b[39m\u001b[38;5;124mpower_query\u001b[39m\u001b[38;5;124m'\u001b[39m, sql_file)\n\u001b[0;32m     45\u001b[0m generate_sql(location_df, \u001b[38;5;124m'\u001b[39m\u001b[38;5;124mlocation\u001b[39m\u001b[38;5;124m'\u001b[39m, sql_file)\n\u001b[0;32m     46\u001b[0m generate_sql(languages_df, \u001b[38;5;124m'\u001b[39m\u001b[38;5;124mlanguages\u001b[39m\u001b[38;5;124m'\u001b[39m, sql_file)\n",
      "Cell \u001b[1;32mIn[4], line 33\u001b[0m, in \u001b[0;36mgenerate_sql\u001b[1;34m(df, table_name, file)\u001b[0m\n\u001b[0;32m     26\u001b[0m     values \u001b[38;5;241m=\u001b[39m \u001b[38;5;124m'\u001b[39m\u001b[38;5;124m, \u001b[39m\u001b[38;5;124m'\u001b[39m\u001b[38;5;241m.\u001b[39mjoin([\u001b[38;5;124m\"\u001b[39m\u001b[38;5;124m'\u001b[39m\u001b[38;5;132;01m{}\u001b[39;00m\u001b[38;5;124m'\u001b[39m\u001b[38;5;124m\"\u001b[39m\u001b[38;5;241m.\u001b[39mformat(\u001b[38;5;28mstr\u001b[39m(value)\u001b[38;5;241m.\u001b[39mreplace(\u001b[38;5;124m'\u001b[39m\u001b[38;5;130;01m\\'\u001b[39;00m\u001b[38;5;124m'\u001b[39m, \u001b[38;5;124m'\u001b[39m\u001b[38;5;130;01m\\'\u001b[39;00m\u001b[38;5;130;01m\\'\u001b[39;00m\u001b[38;5;124m'\u001b[39m))\n\u001b[0;32m     27\u001b[0m                         \u001b[38;5;28;01mif\u001b[39;00m pd\u001b[38;5;241m.\u001b[39mnotnull(value) \u001b[38;5;28;01melse\u001b[39;00m \u001b[38;5;124m'\u001b[39m\u001b[38;5;124mNULL\u001b[39m\u001b[38;5;124m'\u001b[39m \u001b[38;5;28;01mfor\u001b[39;00m value \u001b[38;5;129;01min\u001b[39;00m row])\n\u001b[0;32m     28\u001b[0m     insert_sql \u001b[38;5;241m=\u001b[39m \u001b[38;5;124m\"\u001b[39m\u001b[38;5;124mINSERT INTO \u001b[39m\u001b[38;5;132;01m{}\u001b[39;00m\u001b[38;5;124m (\u001b[39m\u001b[38;5;132;01m{}\u001b[39;00m\u001b[38;5;124m) VALUES (\u001b[39m\u001b[38;5;132;01m{}\u001b[39;00m\u001b[38;5;124m);\u001b[39m\u001b[38;5;130;01m\\n\u001b[39;00m\u001b[38;5;124m\"\u001b[39m\u001b[38;5;241m.\u001b[39mformat(\n\u001b[0;32m     29\u001b[0m         table_name,\n\u001b[0;32m     30\u001b[0m         \u001b[38;5;124m'\u001b[39m\u001b[38;5;124m, \u001b[39m\u001b[38;5;124m'\u001b[39m\u001b[38;5;241m.\u001b[39mjoin(columns),\n\u001b[0;32m     31\u001b[0m         values\n\u001b[0;32m     32\u001b[0m     )\n\u001b[1;32m---> 33\u001b[0m     f\u001b[38;5;241m.\u001b[39mwrite(insert_sql)\n\u001b[0;32m     34\u001b[0m f\u001b[38;5;241m.\u001b[39mwrite(\u001b[38;5;124m\"\u001b[39m\u001b[38;5;130;01m\\n\u001b[39;00m\u001b[38;5;124m\"\u001b[39m)\n",
      "File \u001b[1;32m~\\anaconda3\\Lib\\encodings\\cp1252.py:19\u001b[0m, in \u001b[0;36mIncrementalEncoder.encode\u001b[1;34m(self, input, final)\u001b[0m\n\u001b[0;32m     18\u001b[0m \u001b[38;5;28;01mdef\u001b[39;00m \u001b[38;5;21mencode\u001b[39m(\u001b[38;5;28mself\u001b[39m, \u001b[38;5;28minput\u001b[39m, final\u001b[38;5;241m=\u001b[39m\u001b[38;5;28;01mFalse\u001b[39;00m):\n\u001b[1;32m---> 19\u001b[0m     \u001b[38;5;28;01mreturn\u001b[39;00m codecs\u001b[38;5;241m.\u001b[39mcharmap_encode(\u001b[38;5;28minput\u001b[39m,\u001b[38;5;28mself\u001b[39m\u001b[38;5;241m.\u001b[39merrors,encoding_table)[\u001b[38;5;241m0\u001b[39m]\n",
      "\u001b[1;31mUnicodeEncodeError\u001b[0m: 'charmap' codec can't encode character '\\x81' in position 187: character maps to <undefined>"
     ]
    }
   ],
   "source": [
    "import pandas as pd\n",
    "import os\n",
    "\n",
    "# Load your DataFrames from the Excel file\n",
    "file_path = r'C:\\Users\\3body\\OneDrive\\Desktop\\Final dataset.xlsx'\n",
    "excel_file = pd.ExcelFile(file_path)\n",
    "\n",
    "# Load the sheets into DataFrames\n",
    "power_query_df = pd.read_excel(file_path, sheet_name='power query')\n",
    "location_df = pd.read_excel(file_path, sheet_name='Location')\n",
    "languages_df = pd.read_excel(file_path, sheet_name='Languages')\n",
    "\n",
    "# Function to create SQL table and insert data\n",
    "def generate_sql(df, table_name, file):\n",
    "    with open(file, 'a') as f:\n",
    "        # Create table SQL\n",
    "        columns = df.columns\n",
    "        create_table_sql = f\"CREATE TABLE IF NOT EXISTS {table_name} (\\n\"\n",
    "        create_table_sql += ',\\n'.join([f\"    {col} VARCHAR(255)\" for col in columns])\n",
    "        create_table_sql += \"\\n);\\n\\n\"\n",
    "        f.write(create_table_sql)\n",
    "        \n",
    "        # Insert data SQL\n",
    "        for index, row in df.iterrows():\n",
    "            # Use traditional string formatting to avoid issues with f-strings\n",
    "            values = ', '.join([\"'{}'\".format(str(value).replace('\\'', '\\'\\''))\n",
    "                                if pd.notnull(value) else 'NULL' for value in row])\n",
    "            insert_sql = \"INSERT INTO {} ({}) VALUES ({});\\n\".format(\n",
    "                table_name,\n",
    "                ', '.join(columns),\n",
    "                values\n",
    "            )\n",
    "            f.write(insert_sql)\n",
    "        f.write(\"\\n\")\n",
    "\n",
    "# Generate SQL file\n",
    "sql_file = 'database_script.sql'\n",
    "\n",
    "# Clear file if exists\n",
    "if os.path.exists(sql_file):\n",
    "    os.remove(sql_file)\n",
    "\n",
    "# Generate SQL statements for each DataFrame\n",
    "generate_sql(power_query_df, 'power_query', sql_file)\n",
    "generate_sql(location_df, 'location', sql_file)\n",
    "generate_sql(languages_df, 'languages', sql_file)\n",
    "\n",
    "print(f\"SQL file created: {sql_file}\")\n",
    "\n"
   ]
  },
  {
   "cell_type": "code",
   "execution_count": null,
   "id": "e3ace21f-d041-4d34-a0fc-4633738f0bbd",
   "metadata": {},
   "outputs": [],
   "source": []
  }
 ],
 "metadata": {
  "kernelspec": {
   "display_name": "Python 3 (ipykernel)",
   "language": "python",
   "name": "python3"
  },
  "language_info": {
   "codemirror_mode": {
    "name": "ipython",
    "version": 3
   },
   "file_extension": ".py",
   "mimetype": "text/x-python",
   "name": "python",
   "nbconvert_exporter": "python",
   "pygments_lexer": "ipython3",
   "version": "3.12.4"
  }
 },
 "nbformat": 4,
 "nbformat_minor": 5
}
